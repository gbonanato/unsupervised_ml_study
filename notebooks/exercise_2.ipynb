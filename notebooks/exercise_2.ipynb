{
 "cells": [
  {
   "cell_type": "markdown",
   "metadata": {},
   "source": [
    "### Objective\n",
    "The database consists of clients information from a fictitious company. Among the information are categorical an numerical informations. The ideia is to perform a clusterization on numeric information and then perform a correspondency analysis with all categorical variables in the database"
   ]
  },
  {
   "cell_type": "code",
   "execution_count": 22,
   "metadata": {},
   "outputs": [],
   "source": [
    "import pandas as pd\n",
    "from sklearn.preprocessing import StandardScaler"
   ]
  },
  {
   "cell_type": "code",
   "execution_count": 23,
   "metadata": {},
   "outputs": [
    {
     "data": {
      "text/html": [
       "<div>\n",
       "<style scoped>\n",
       "    .dataframe tbody tr th:only-of-type {\n",
       "        vertical-align: middle;\n",
       "    }\n",
       "\n",
       "    .dataframe tbody tr th {\n",
       "        vertical-align: top;\n",
       "    }\n",
       "\n",
       "    .dataframe thead th {\n",
       "        text-align: right;\n",
       "    }\n",
       "</style>\n",
       "<table border=\"1\" class=\"dataframe\">\n",
       "  <thead>\n",
       "    <tr style=\"text-align: right;\">\n",
       "      <th></th>\n",
       "      <th>Gender</th>\n",
       "      <th>EverMarried</th>\n",
       "      <th>Age</th>\n",
       "      <th>Graduated</th>\n",
       "      <th>SpendingScore</th>\n",
       "      <th>FamilySize</th>\n",
       "    </tr>\n",
       "  </thead>\n",
       "  <tbody>\n",
       "    <tr>\n",
       "      <th>0</th>\n",
       "      <td>Male</td>\n",
       "      <td>No</td>\n",
       "      <td>22</td>\n",
       "      <td>No</td>\n",
       "      <td>Low</td>\n",
       "      <td>4.0</td>\n",
       "    </tr>\n",
       "    <tr>\n",
       "      <th>1</th>\n",
       "      <td>Female</td>\n",
       "      <td>Yes</td>\n",
       "      <td>38</td>\n",
       "      <td>Yes</td>\n",
       "      <td>Average</td>\n",
       "      <td>3.0</td>\n",
       "    </tr>\n",
       "    <tr>\n",
       "      <th>2</th>\n",
       "      <td>Female</td>\n",
       "      <td>Yes</td>\n",
       "      <td>67</td>\n",
       "      <td>Yes</td>\n",
       "      <td>Low</td>\n",
       "      <td>1.0</td>\n",
       "    </tr>\n",
       "    <tr>\n",
       "      <th>3</th>\n",
       "      <td>Male</td>\n",
       "      <td>Yes</td>\n",
       "      <td>67</td>\n",
       "      <td>Yes</td>\n",
       "      <td>High</td>\n",
       "      <td>2.0</td>\n",
       "    </tr>\n",
       "    <tr>\n",
       "      <th>4</th>\n",
       "      <td>Female</td>\n",
       "      <td>Yes</td>\n",
       "      <td>40</td>\n",
       "      <td>Yes</td>\n",
       "      <td>High</td>\n",
       "      <td>6.0</td>\n",
       "    </tr>\n",
       "  </tbody>\n",
       "</table>\n",
       "</div>"
      ],
      "text/plain": [
       "   Gender EverMarried  Age Graduated SpendingScore  FamilySize\n",
       "0    Male          No   22        No           Low         4.0\n",
       "1  Female         Yes   38       Yes       Average         3.0\n",
       "2  Female         Yes   67       Yes           Low         1.0\n",
       "3    Male         Yes   67       Yes          High         2.0\n",
       "4  Female         Yes   40       Yes          High         6.0"
      ]
     },
     "execution_count": 23,
     "metadata": {},
     "output_type": "execute_result"
    }
   ],
   "source": [
    "df = pd.read_excel('../data/clientes_segmenta.xlsx')\n",
    "df.head()"
   ]
  },
  {
   "cell_type": "code",
   "execution_count": 24,
   "metadata": {},
   "outputs": [
    {
     "name": "stdout",
     "output_type": "stream",
     "text": [
      "Gender             0\n",
      "EverMarried      140\n",
      "Age                0\n",
      "Graduated         78\n",
      "SpendingScore      0\n",
      "FamilySize       335\n",
      "dtype: int64\n"
     ]
    }
   ],
   "source": [
    "print(df.isna().sum())\n",
    "df.dropna(inplace=True)"
   ]
  },
  {
   "cell_type": "code",
   "execution_count": 25,
   "metadata": {},
   "outputs": [
    {
     "data": {
      "text/html": [
       "<div>\n",
       "<style scoped>\n",
       "    .dataframe tbody tr th:only-of-type {\n",
       "        vertical-align: middle;\n",
       "    }\n",
       "\n",
       "    .dataframe tbody tr th {\n",
       "        vertical-align: top;\n",
       "    }\n",
       "\n",
       "    .dataframe thead th {\n",
       "        text-align: right;\n",
       "    }\n",
       "</style>\n",
       "<table border=\"1\" class=\"dataframe\">\n",
       "  <thead>\n",
       "    <tr style=\"text-align: right;\">\n",
       "      <th></th>\n",
       "      <th>Age</th>\n",
       "      <th>FamilySize</th>\n",
       "    </tr>\n",
       "  </thead>\n",
       "  <tbody>\n",
       "    <tr>\n",
       "      <th>count</th>\n",
       "      <td>7538.000000</td>\n",
       "      <td>7538.000000</td>\n",
       "    </tr>\n",
       "    <tr>\n",
       "      <th>mean</th>\n",
       "      <td>43.524144</td>\n",
       "      <td>2.845450</td>\n",
       "    </tr>\n",
       "    <tr>\n",
       "      <th>std</th>\n",
       "      <td>16.612202</td>\n",
       "      <td>1.527899</td>\n",
       "    </tr>\n",
       "    <tr>\n",
       "      <th>min</th>\n",
       "      <td>18.000000</td>\n",
       "      <td>1.000000</td>\n",
       "    </tr>\n",
       "    <tr>\n",
       "      <th>25%</th>\n",
       "      <td>31.000000</td>\n",
       "      <td>2.000000</td>\n",
       "    </tr>\n",
       "    <tr>\n",
       "      <th>50%</th>\n",
       "      <td>41.000000</td>\n",
       "      <td>3.000000</td>\n",
       "    </tr>\n",
       "    <tr>\n",
       "      <th>75%</th>\n",
       "      <td>53.000000</td>\n",
       "      <td>4.000000</td>\n",
       "    </tr>\n",
       "    <tr>\n",
       "      <th>max</th>\n",
       "      <td>89.000000</td>\n",
       "      <td>9.000000</td>\n",
       "    </tr>\n",
       "  </tbody>\n",
       "</table>\n",
       "</div>"
      ],
      "text/plain": [
       "               Age   FamilySize\n",
       "count  7538.000000  7538.000000\n",
       "mean     43.524144     2.845450\n",
       "std      16.612202     1.527899\n",
       "min      18.000000     1.000000\n",
       "25%      31.000000     2.000000\n",
       "50%      41.000000     3.000000\n",
       "75%      53.000000     4.000000\n",
       "max      89.000000     9.000000"
      ]
     },
     "execution_count": 25,
     "metadata": {},
     "output_type": "execute_result"
    }
   ],
   "source": [
    "df_clusterization = df[['Age', 'FamilySize']]\n",
    "df_clusterization.describe()"
   ]
  },
  {
   "cell_type": "markdown",
   "metadata": {},
   "source": [
    "There is a considerable diference between min and maximum values for Age and FamilySize data, reinforcing the need for scaling the data. Scaling is very important in clusterization, since the algorithm is based of distance calculations. "
   ]
  },
  {
   "cell_type": "code",
   "execution_count": 26,
   "metadata": {},
   "outputs": [],
   "source": [
    "# scaler = StandardScaler()\n",
    "# # df_cluster_scaled = df_clusterization.copy()\n",
    "# df_cluster_scaled = scaler.fit_transform(df_clusterization)\n",
    "# # scaler.transform(df_cluster_scaled)\n",
    "# df_cluster_scaled = pd.DataFrame(df_cluster_scaled, columns=df_clusterization.columns)\n",
    "# df_cluster_scaled.describe()\n",
    "\n",
    "# SCIKIT-LEARN STANDARDSCALER ALWAYS ASSUMES POPULATION (N) MEAN AND STANDARD DEVIATION, INSTEAD OF SAMPLE STANDARD DEVIATION (N-1), \n",
    "# LEADING TO SLIGHLY DIFFERENT RESULTS FROM USING Z-SCORE FROM SCIPY WITH ZSCORE.\n",
    "# USING SCIPY THERE ARE CORRELATIONS BETWEEN THE CLUSTER CATEGORIES AND THE VARIABLE SpendingScores (USING chi_squared METHOD)\n",
    "# BUT NOT IF USING STANDARDSCALER USING A P-VALUE OF 0.05 "
   ]
  },
  {
   "cell_type": "markdown",
   "metadata": {},
   "source": [
    "The method below does the same scaling as above"
   ]
  },
  {
   "cell_type": "code",
   "execution_count": 27,
   "metadata": {},
   "outputs": [
    {
     "data": {
      "text/html": [
       "<div>\n",
       "<style scoped>\n",
       "    .dataframe tbody tr th:only-of-type {\n",
       "        vertical-align: middle;\n",
       "    }\n",
       "\n",
       "    .dataframe tbody tr th {\n",
       "        vertical-align: top;\n",
       "    }\n",
       "\n",
       "    .dataframe thead th {\n",
       "        text-align: right;\n",
       "    }\n",
       "</style>\n",
       "<table border=\"1\" class=\"dataframe\">\n",
       "  <thead>\n",
       "    <tr style=\"text-align: right;\">\n",
       "      <th></th>\n",
       "      <th>Age</th>\n",
       "      <th>FamilySize</th>\n",
       "    </tr>\n",
       "  </thead>\n",
       "  <tbody>\n",
       "    <tr>\n",
       "      <th>count</th>\n",
       "      <td>7.538000e+03</td>\n",
       "      <td>7.538000e+03</td>\n",
       "    </tr>\n",
       "    <tr>\n",
       "      <th>mean</th>\n",
       "      <td>-1.517609e-16</td>\n",
       "      <td>8.719183e-17</td>\n",
       "    </tr>\n",
       "    <tr>\n",
       "      <th>std</th>\n",
       "      <td>1.000000e+00</td>\n",
       "      <td>1.000000e+00</td>\n",
       "    </tr>\n",
       "    <tr>\n",
       "      <th>min</th>\n",
       "      <td>-1.536470e+00</td>\n",
       "      <td>-1.207835e+00</td>\n",
       "    </tr>\n",
       "    <tr>\n",
       "      <th>25%</th>\n",
       "      <td>-7.539124e-01</td>\n",
       "      <td>-5.533412e-01</td>\n",
       "    </tr>\n",
       "    <tr>\n",
       "      <th>50%</th>\n",
       "      <td>-1.519452e-01</td>\n",
       "      <td>1.011521e-01</td>\n",
       "    </tr>\n",
       "    <tr>\n",
       "      <th>75%</th>\n",
       "      <td>5.704154e-01</td>\n",
       "      <td>7.556455e-01</td>\n",
       "    </tr>\n",
       "    <tr>\n",
       "      <th>max</th>\n",
       "      <td>2.737497e+00</td>\n",
       "      <td>4.028112e+00</td>\n",
       "    </tr>\n",
       "  </tbody>\n",
       "</table>\n",
       "</div>"
      ],
      "text/plain": [
       "                Age    FamilySize\n",
       "count  7.538000e+03  7.538000e+03\n",
       "mean  -1.517609e-16  8.719183e-17\n",
       "std    1.000000e+00  1.000000e+00\n",
       "min   -1.536470e+00 -1.207835e+00\n",
       "25%   -7.539124e-01 -5.533412e-01\n",
       "50%   -1.519452e-01  1.011521e-01\n",
       "75%    5.704154e-01  7.556455e-01\n",
       "max    2.737497e+00  4.028112e+00"
      ]
     },
     "execution_count": 27,
     "metadata": {},
     "output_type": "execute_result"
    }
   ],
   "source": [
    "from scipy.stats import zscore\n",
    "df_cluster_scaled = df_clusterization.apply(zscore, ddof=1)\n",
    "\n",
    "df_cluster_scaled.describe()\n"
   ]
  },
  {
   "cell_type": "code",
   "execution_count": 28,
   "metadata": {},
   "outputs": [
    {
     "data": {
      "image/png": "[encoded data removed]",
      "text/plain": [
       "<Figure size 640x480 with 1 Axes>"
      ]
     },
     "metadata": {},
     "output_type": "display_data"
    }
   ],
   "source": [
    "from sklearn.cluster import KMeans\n",
    "import matplotlib.pyplot as plt\n",
    "\n",
    "SSE = {}\n",
    "for i in range(1, 11, 1):\n",
    "    clustering = KMeans(n_clusters=i, init='random', random_state=100).fit(df_cluster_scaled)\n",
    "    inertia = clustering.inertia_  # inertia is the sum of squared distances of samples to their closest cluster center\n",
    "    SSE[i] = inertia\n",
    "\n",
    "plt.figure()\n",
    "plt.plot(list(SSE.keys()), list(SSE.values()))\n",
    "plt.xlabel('Nº Clusters', fontsize=16)\n",
    "plt.xticks(range(1,11)) # ajustar range\n",
    "plt.ylabel('WCSS', fontsize=16)\n",
    "plt.title('Método de Elbow', fontsize=16)\n",
    "plt.show()"
   ]
  },
  {
   "cell_type": "markdown",
   "metadata": {},
   "source": [
    "Now we chose the number of clusters we want to used based of elbow chart. 5 seems to be a good number since untill from 1 to 5 we reach a considerable decrease in the average distance between each sample and its cluster center"
   ]
  },
  {
   "cell_type": "code",
   "execution_count": 29,
   "metadata": {},
   "outputs": [
    {
     "data": {
      "text/plain": [
       "array([3, 3, 1, ..., 2, 3, 3], dtype=int32)"
      ]
     },
     "execution_count": 29,
     "metadata": {},
     "output_type": "execute_result"
    }
   ],
   "source": [
    "clustering = KMeans(n_clusters=5, init='random', random_state=100).fit(df_cluster_scaled)\n",
    "\n",
    "clustering.labels_"
   ]
  },
  {
   "cell_type": "code",
   "execution_count": 30,
   "metadata": {},
   "outputs": [
    {
     "name": "stderr",
     "output_type": "stream",
     "text": [
      "C:\\Users\\Gabriel Bonanato\\AppData\\Local\\Temp\\ipykernel_26108\\1624930724.py:3: SettingWithCopyWarning: \n",
      "A value is trying to be set on a copy of a slice from a DataFrame.\n",
      "Try using .loc[row_indexer,col_indexer] = value instead\n",
      "\n",
      "See the caveats in the documentation: https://pandas.pydata.org/pandas-docs/stable/user_guide/indexing.html#returning-a-view-versus-a-copy\n",
      "  df_clusterization['cluster'] = clustering.labels_\n",
      "C:\\Users\\Gabriel Bonanato\\AppData\\Local\\Temp\\ipykernel_26108\\1624930724.py:4: SettingWithCopyWarning: \n",
      "A value is trying to be set on a copy of a slice from a DataFrame.\n",
      "Try using .loc[row_indexer,col_indexer] = value instead\n",
      "\n",
      "See the caveats in the documentation: https://pandas.pydata.org/pandas-docs/stable/user_guide/indexing.html#returning-a-view-versus-a-copy\n",
      "  df_clusterization['cluster'] = df_clusterization['cluster'].astype('category') # Important so that the labels arent viewed as foats\n"
     ]
    },
    {
     "data": {
      "text/html": [
       "<div>\n",
       "<style scoped>\n",
       "    .dataframe tbody tr th:only-of-type {\n",
       "        vertical-align: middle;\n",
       "    }\n",
       "\n",
       "    .dataframe tbody tr th {\n",
       "        vertical-align: top;\n",
       "    }\n",
       "\n",
       "    .dataframe thead th {\n",
       "        text-align: right;\n",
       "    }\n",
       "</style>\n",
       "<table border=\"1\" class=\"dataframe\">\n",
       "  <thead>\n",
       "    <tr style=\"text-align: right;\">\n",
       "      <th></th>\n",
       "      <th>Age</th>\n",
       "      <th>FamilySize</th>\n",
       "      <th>cluster</th>\n",
       "    </tr>\n",
       "  </thead>\n",
       "  <tbody>\n",
       "    <tr>\n",
       "      <th>0</th>\n",
       "      <td>-1.295683</td>\n",
       "      <td>0.755646</td>\n",
       "      <td>3</td>\n",
       "    </tr>\n",
       "    <tr>\n",
       "      <th>1</th>\n",
       "      <td>-0.332535</td>\n",
       "      <td>0.101152</td>\n",
       "      <td>3</td>\n",
       "    </tr>\n",
       "    <tr>\n",
       "      <th>2</th>\n",
       "      <td>1.413169</td>\n",
       "      <td>-1.207835</td>\n",
       "      <td>1</td>\n",
       "    </tr>\n",
       "    <tr>\n",
       "      <th>3</th>\n",
       "      <td>1.413169</td>\n",
       "      <td>-0.553341</td>\n",
       "      <td>1</td>\n",
       "    </tr>\n",
       "    <tr>\n",
       "      <th>4</th>\n",
       "      <td>-0.212142</td>\n",
       "      <td>2.064632</td>\n",
       "      <td>0</td>\n",
       "    </tr>\n",
       "  </tbody>\n",
       "</table>\n",
       "</div>"
      ],
      "text/plain": [
       "        Age  FamilySize cluster\n",
       "0 -1.295683    0.755646       3\n",
       "1 -0.332535    0.101152       3\n",
       "2  1.413169   -1.207835       1\n",
       "3  1.413169   -0.553341       1\n",
       "4 -0.212142    2.064632       0"
      ]
     },
     "execution_count": 30,
     "metadata": {},
     "output_type": "execute_result"
    }
   ],
   "source": [
    "df_cluster_scaled['cluster'] = clustering.labels_\n",
    "df_cluster_scaled['cluster'] = df_cluster_scaled['cluster'].astype('category')  \n",
    "df_clusterization['cluster'] = clustering.labels_\n",
    "df_clusterization['cluster'] = df_clusterization['cluster'].astype('category') # Important so that the labels arent viewed as foats\n",
    "df['cluster'] = clustering.labels_\n",
    "df['cluster'] = df['cluster'].astype('category')  # Incororates the labes in the original dataframe\n",
    "df_cluster_scaled.head()"
   ]
  },
  {
   "cell_type": "code",
   "execution_count": 31,
   "metadata": {},
   "outputs": [
    {
     "name": "stderr",
     "output_type": "stream",
     "text": [
      "C:\\Users\\Gabriel Bonanato\\AppData\\Local\\Temp\\ipykernel_26108\\1306282934.py:1: FutureWarning: The default of observed=False is deprecated and will be changed to True in a future version of pandas. Pass observed=False to retain current behavior or observed=True to adopt the future default and silence this warning.\n",
      "  df_clusterization[['Age', 'FamilySize', 'cluster']].groupby(by=['cluster']).mean()\n"
     ]
    },
    {
     "data": {
      "text/html": [
       "<div>\n",
       "<style scoped>\n",
       "    .dataframe tbody tr th:only-of-type {\n",
       "        vertical-align: middle;\n",
       "    }\n",
       "\n",
       "    .dataframe tbody tr th {\n",
       "        vertical-align: top;\n",
       "    }\n",
       "\n",
       "    .dataframe thead th {\n",
       "        text-align: right;\n",
       "    }\n",
       "</style>\n",
       "<table border=\"1\" class=\"dataframe\">\n",
       "  <thead>\n",
       "    <tr style=\"text-align: right;\">\n",
       "      <th></th>\n",
       "      <th>Age</th>\n",
       "      <th>FamilySize</th>\n",
       "    </tr>\n",
       "    <tr>\n",
       "      <th>cluster</th>\n",
       "      <th></th>\n",
       "      <th></th>\n",
       "    </tr>\n",
       "  </thead>\n",
       "  <tbody>\n",
       "    <tr>\n",
       "      <th>0</th>\n",
       "      <td>30.911765</td>\n",
       "      <td>5.870844</td>\n",
       "    </tr>\n",
       "    <tr>\n",
       "      <th>1</th>\n",
       "      <td>70.043575</td>\n",
       "      <td>1.790990</td>\n",
       "    </tr>\n",
       "    <tr>\n",
       "      <th>2</th>\n",
       "      <td>38.561439</td>\n",
       "      <td>1.592158</td>\n",
       "    </tr>\n",
       "    <tr>\n",
       "      <th>3</th>\n",
       "      <td>28.436681</td>\n",
       "      <td>3.435434</td>\n",
       "    </tr>\n",
       "    <tr>\n",
       "      <th>4</th>\n",
       "      <td>51.387170</td>\n",
       "      <td>3.763774</td>\n",
       "    </tr>\n",
       "  </tbody>\n",
       "</table>\n",
       "</div>"
      ],
      "text/plain": [
       "               Age  FamilySize\n",
       "cluster                       \n",
       "0        30.911765    5.870844\n",
       "1        70.043575    1.790990\n",
       "2        38.561439    1.592158\n",
       "3        28.436681    3.435434\n",
       "4        51.387170    3.763774"
      ]
     },
     "execution_count": 31,
     "metadata": {},
     "output_type": "execute_result"
    }
   ],
   "source": [
    "df_clusterization[['Age', 'FamilySize', 'cluster']].groupby(by=['cluster']).mean()"
   ]
  },
  {
   "cell_type": "markdown",
   "metadata": {},
   "source": [
    "Now we run a ANOVA test to see if there are significant changes in the mean values for each variables across clusters. This gives an idea of weather or not a variables was relevant for creating the cluster."
   ]
  },
  {
   "cell_type": "code",
   "execution_count": 32,
   "metadata": {},
   "outputs": [
    {
     "name": "stdout",
     "output_type": "stream",
     "text": [
      "ANOVA Results:\n",
      "     Variable  F-statistic  p-value\n",
      "0         Age  6020.925602      0.0\n",
      "1  FamilySize  7948.068021      0.0\n"
     ]
    }
   ],
   "source": [
    "from scipy.stats import f_oneway\n",
    "\n",
    "anova_results = []\n",
    "\n",
    "for var in ['Age', 'FamilySize']:\n",
    "    # Extract data for each cluster\n",
    "    clusters_data = [df_cluster_scaled[var][df_cluster_scaled['cluster'] == i] for i in df_cluster_scaled['cluster'].unique()]\n",
    "    \n",
    "    # Perform ANOVA\n",
    "    f_statistic, p_value = f_oneway(*clusters_data)\n",
    "    \n",
    "    # Store the results\n",
    "    anova_results.append({'Variable': var, 'F-statistic': f_statistic, 'p-value': p_value})\n",
    "\n",
    "# Display ANOVA results\n",
    "anova_results_df = pd.DataFrame(anova_results)\n",
    "print(\"ANOVA Results:\")\n",
    "print(anova_results_df)"
   ]
  },
  {
   "cell_type": "markdown",
   "metadata": {},
   "source": [
    "Since p-values were below 5% for both variables, it means that both variables vary significantly across clusters and were relevant for creation of each of the clusters."
   ]
  },
  {
   "cell_type": "markdown",
   "metadata": {},
   "source": [
    "Now we create a qualitative database for running correspondency analysis."
   ]
  },
  {
   "cell_type": "code",
   "execution_count": 33,
   "metadata": {},
   "outputs": [
    {
     "data": {
      "text/plain": [
       "Index(['Gender', 'EverMarried', 'Age', 'Graduated', 'SpendingScore',\n",
       "       'FamilySize', 'cluster'],\n",
       "      dtype='object')"
      ]
     },
     "execution_count": 33,
     "metadata": {},
     "output_type": "execute_result"
    }
   ],
   "source": [
    "df.columns"
   ]
  },
  {
   "cell_type": "code",
   "execution_count": 34,
   "metadata": {},
   "outputs": [
    {
     "data": {
      "text/html": [
       "<div>\n",
       "<style scoped>\n",
       "    .dataframe tbody tr th:only-of-type {\n",
       "        vertical-align: middle;\n",
       "    }\n",
       "\n",
       "    .dataframe tbody tr th {\n",
       "        vertical-align: top;\n",
       "    }\n",
       "\n",
       "    .dataframe thead th {\n",
       "        text-align: right;\n",
       "    }\n",
       "</style>\n",
       "<table border=\"1\" class=\"dataframe\">\n",
       "  <thead>\n",
       "    <tr style=\"text-align: right;\">\n",
       "      <th></th>\n",
       "      <th>Gender</th>\n",
       "      <th>EverMarried</th>\n",
       "      <th>Graduated</th>\n",
       "      <th>SpendingScore</th>\n",
       "      <th>cluster</th>\n",
       "    </tr>\n",
       "  </thead>\n",
       "  <tbody>\n",
       "    <tr>\n",
       "      <th>0</th>\n",
       "      <td>Male</td>\n",
       "      <td>No</td>\n",
       "      <td>No</td>\n",
       "      <td>Low</td>\n",
       "      <td>3</td>\n",
       "    </tr>\n",
       "    <tr>\n",
       "      <th>1</th>\n",
       "      <td>Female</td>\n",
       "      <td>Yes</td>\n",
       "      <td>Yes</td>\n",
       "      <td>Average</td>\n",
       "      <td>3</td>\n",
       "    </tr>\n",
       "    <tr>\n",
       "      <th>2</th>\n",
       "      <td>Female</td>\n",
       "      <td>Yes</td>\n",
       "      <td>Yes</td>\n",
       "      <td>Low</td>\n",
       "      <td>1</td>\n",
       "    </tr>\n",
       "    <tr>\n",
       "      <th>3</th>\n",
       "      <td>Male</td>\n",
       "      <td>Yes</td>\n",
       "      <td>Yes</td>\n",
       "      <td>High</td>\n",
       "      <td>1</td>\n",
       "    </tr>\n",
       "    <tr>\n",
       "      <th>4</th>\n",
       "      <td>Female</td>\n",
       "      <td>Yes</td>\n",
       "      <td>Yes</td>\n",
       "      <td>High</td>\n",
       "      <td>0</td>\n",
       "    </tr>\n",
       "  </tbody>\n",
       "</table>\n",
       "</div>"
      ],
      "text/plain": [
       "   Gender EverMarried Graduated SpendingScore cluster\n",
       "0    Male          No        No           Low       3\n",
       "1  Female         Yes       Yes       Average       3\n",
       "2  Female         Yes       Yes           Low       1\n",
       "3    Male         Yes       Yes          High       1\n",
       "4  Female         Yes       Yes          High       0"
      ]
     },
     "execution_count": 34,
     "metadata": {},
     "output_type": "execute_result"
    }
   ],
   "source": [
    "df_quali = df[['Gender', 'EverMarried', 'Graduated', 'SpendingScore', 'cluster']] \n",
    "df_quali.head()"
   ]
  },
  {
   "cell_type": "code",
   "execution_count": 35,
   "metadata": {},
   "outputs": [
    {
     "name": "stdout",
     "output_type": "stream",
     "text": [
      "<class 'pandas.core.frame.DataFrame'>\n",
      "Index: 7538 entries, 0 to 8067\n",
      "Data columns (total 5 columns):\n",
      " #   Column         Non-Null Count  Dtype   \n",
      "---  ------         --------------  -----   \n",
      " 0   Gender         7538 non-null   object  \n",
      " 1   EverMarried    7538 non-null   object  \n",
      " 2   Graduated      7538 non-null   object  \n",
      " 3   SpendingScore  7538 non-null   object  \n",
      " 4   cluster        7538 non-null   category\n",
      "dtypes: category(1), object(4)\n",
      "memory usage: 302.0+ KB\n"
     ]
    }
   ],
   "source": [
    "df_quali.info()"
   ]
  },
  {
   "cell_type": "code",
   "execution_count": 36,
   "metadata": {},
   "outputs": [
    {
     "name": "stdout",
     "output_type": "stream",
     "text": [
      "Gender\n",
      "Male      4163\n",
      "Female    3375\n",
      "Name: count, dtype: int64\n",
      "EverMarried\n",
      "Yes    4466\n",
      "No     3072\n",
      "Name: count, dtype: int64\n",
      "Graduated\n",
      "Yes    4731\n",
      "No     2807\n",
      "Name: count, dtype: int64\n",
      "SpendingScore\n",
      "Low        4504\n",
      "Average    1888\n",
      "High       1146\n",
      "Name: count, dtype: int64\n",
      "cluster\n",
      "2    2474\n",
      "3    1603\n",
      "1    1354\n",
      "4    1325\n",
      "0     782\n",
      "Name: count, dtype: int64\n"
     ]
    }
   ],
   "source": [
    "print(df_quali.Gender.value_counts())\n",
    "print(df_quali.EverMarried.value_counts())\n",
    "print(df_quali.Graduated.value_counts())\n",
    "print(df_quali.SpendingScore.value_counts())\n",
    "print(df_quali.cluster.value_counts())"
   ]
  },
  {
   "cell_type": "markdown",
   "metadata": {},
   "source": [
    "Now we want to verify weather or not the categorical variables correlate. To make it simpler, not all pairs of variables will be checked for correlation, but only the pairs containing the variable SpendingScore"
   ]
  },
  {
   "cell_type": "code",
   "execution_count": 37,
   "metadata": {},
   "outputs": [],
   "source": [
    "other_vars = ['Gender', 'EverMarried', 'Graduated', 'cluster']"
   ]
  },
  {
   "cell_type": "code",
   "execution_count": 38,
   "metadata": {},
   "outputs": [
    {
     "name": "stdout",
     "output_type": "stream",
     "text": [
      "SpendingScore x Gender\n",
      "estatística qui²: 29.58\n",
      "p-valor da estatística: 0.0\n",
      "\n",
      "\n",
      "SpendingScore x EverMarried\n",
      "estatística qui²: 3492.82\n",
      "p-valor da estatística: 0.0\n",
      "\n",
      "\n",
      "SpendingScore x Graduated\n",
      "estatística qui²: 181.99\n",
      "p-valor da estatística: 0.0\n",
      "\n",
      "\n",
      "SpendingScore x cluster\n",
      "estatística qui²: 1968.56\n",
      "p-valor da estatística: 0.0\n",
      "\n",
      "\n"
     ]
    }
   ],
   "source": [
    "from scipy.stats import chi2_contingency\n",
    "\n",
    "for var in other_vars:\n",
    "    df_quali_cross_tab = pd.crosstab(df_quali['SpendingScore'], df_quali[var])\n",
    "    chi_test =  chi2_contingency(df_quali_cross_tab)\n",
    "    print('SpendingScore x', var)\n",
    "    print(f\"estatística qui²: {round(chi_test[0], 2)}\")\n",
    "    print(f\"p-valor da estatística: {round(chi_test[1], 4)}\")\n",
    "    print('\\n')"
   ]
  },
  {
   "cell_type": "code",
   "execution_count": 42,
   "metadata": {},
   "outputs": [
    {
     "data": {
      "text/html": [
       "<div>\n",
       "<style scoped>\n",
       "    .dataframe tbody tr th:only-of-type {\n",
       "        vertical-align: middle;\n",
       "    }\n",
       "\n",
       "    .dataframe tbody tr th {\n",
       "        vertical-align: top;\n",
       "    }\n",
       "\n",
       "    .dataframe thead th {\n",
       "        text-align: right;\n",
       "    }\n",
       "</style>\n",
       "<table border=\"1\" class=\"dataframe\">\n",
       "  <thead>\n",
       "    <tr style=\"text-align: right;\">\n",
       "      <th></th>\n",
       "      <th>eigenvalue</th>\n",
       "      <th>% of variance</th>\n",
       "      <th>% of variance (cumulative)</th>\n",
       "    </tr>\n",
       "    <tr>\n",
       "      <th>component</th>\n",
       "      <th></th>\n",
       "      <th></th>\n",
       "      <th></th>\n",
       "    </tr>\n",
       "  </thead>\n",
       "  <tbody>\n",
       "    <tr>\n",
       "      <th>0</th>\n",
       "      <td>0.442</td>\n",
       "      <td>24.55%</td>\n",
       "      <td>24.55%</td>\n",
       "    </tr>\n",
       "    <tr>\n",
       "      <th>1</th>\n",
       "      <td>0.270</td>\n",
       "      <td>15.00%</td>\n",
       "      <td>39.55%</td>\n",
       "    </tr>\n",
       "    <tr>\n",
       "      <th>2</th>\n",
       "      <td>0.238</td>\n",
       "      <td>13.21%</td>\n",
       "      <td>52.76%</td>\n",
       "    </tr>\n",
       "  </tbody>\n",
       "</table>\n",
       "</div>"
      ],
      "text/plain": [
       "          eigenvalue % of variance % of variance (cumulative)\n",
       "component                                                    \n",
       "0              0.442        24.55%                     24.55%\n",
       "1              0.270        15.00%                     39.55%\n",
       "2              0.238        13.21%                     52.76%"
      ]
     },
     "execution_count": 42,
     "metadata": {},
     "output_type": "execute_result"
    }
   ],
   "source": [
    "from prince import MCA\n",
    "\n",
    "mca = MCA(n_components=3).fit(df_quali)\n",
    "mca.eigenvalues_summary"
   ]
  },
  {
   "cell_type": "code",
   "execution_count": 43,
   "metadata": {},
   "outputs": [
    {
     "name": "stdout",
     "output_type": "stream",
     "text": [
      "                              0         1         2\n",
      "Gender_Female         -0.236523 -0.653927 -0.737880\n",
      "Gender_Male            0.191753  0.530147  0.598209\n",
      "EverMarried_No        -1.601284 -0.162705 -0.041124\n",
      "EverMarried_Yes        1.101465  0.111919  0.028288\n",
      "Graduated_No          -0.763391  1.381075  0.861258\n",
      "Graduated_Yes          0.452936 -0.819420 -0.511002\n",
      "SpendingScore_Average  1.424467 -1.121419  1.835795\n",
      "SpendingScore_High     1.610741  2.433804 -1.707910\n",
      "SpendingScore_Low     -1.006950 -0.149178 -0.334973\n",
      "cluster_0             -1.224921  1.311033  1.123103\n",
      "cluster_1              1.163937  1.913665 -2.508373\n",
      "cluster_2             -0.259283 -1.936697 -0.950453\n",
      "cluster_3             -1.387804  0.956657  1.135373\n",
      "cluster_4              1.696630 -0.270539  2.301501\n"
     ]
    },
    {
     "data": {
      "application/vnd.plotly.v1+json": {
       "config": {
        "plotlyServerURL": "https://plot.ly"
       },
       "data": [
        {
         "hovertemplate": "variavel=Gender<br>obs_x=%{x}<br>obs_y=%{y}<br>obs_z=%{z}<br>categoria_id=%{text}<extra></extra>",
         "legendgroup": "Gender",
         "marker": {
          "color": "#636efa",
          "symbol": "circle"
         },
         "mode": "markers+text",
         "name": "Gender",
         "scene": "scene",
         "showlegend": true,
         "text": [
          "Female",
          "Male"
         ],
         "type": "scatter3d",
         "x": [
          -0.23652326071271512,
          0.19175258345073556
         ],
         "y": [
          -0.6539269607953412,
          0.5301473679280021
         ],
         "z": [
          -0.7378795918780859,
          0.5982088932473063
         ]
        },
        {
         "hovertemplate": "variavel=EverMarried<br>obs_x=%{x}<br>obs_y=%{y}<br>obs_z=%{z}<br>categoria_id=%{text}<extra></extra>",
         "legendgroup": "EverMarried",
         "marker": {
          "color": "#EF553B",
          "symbol": "circle"
         },
         "mode": "markers+text",
         "name": "EverMarried",
         "scene": "scene",
         "showlegend": true,
         "text": [
          "No",
          "Yes"
         ],
         "type": "scatter3d",
         "x": [
          -1.601284006380502,
          1.1014653980297588
         ],
         "y": [
          -0.16270496713619254,
          0.11191886678064937
         ],
         "z": [
          -0.04112433750114554,
          0.02828794554489864
         ]
        },
        {
         "hovertemplate": "variavel=Graduated<br>obs_x=%{x}<br>obs_y=%{y}<br>obs_z=%{z}<br>categoria_id=%{text}<extra></extra>",
         "legendgroup": "Graduated",
         "marker": {
          "color": "#00cc96",
          "symbol": "circle"
         },
         "mode": "markers+text",
         "name": "Graduated",
         "scene": "scene",
         "showlegend": true,
         "text": [
          "No",
          "Yes"
         ],
         "type": "scatter3d",
         "x": [
          -0.7633911689837779,
          0.4529357453683078
         ],
         "y": [
          1.3810748513135576,
          -0.8194202298958267
         ],
         "z": [
          0.8612580485493609,
          -0.5110021860659605
         ]
        },
        {
         "hovertemplate": "variavel=SpendingScore<br>obs_x=%{x}<br>obs_y=%{y}<br>obs_z=%{z}<br>categoria_id=%{text}<extra></extra>",
         "legendgroup": "SpendingScore",
         "marker": {
          "color": "#ab63fa",
          "symbol": "circle"
         },
         "mode": "markers+text",
         "name": "SpendingScore",
         "scene": "scene",
         "showlegend": true,
         "text": [
          "Average",
          "High",
          "Low"
         ],
         "type": "scatter3d",
         "x": [
          1.4244672380039431,
          1.6107413958229064,
          -1.006950218686611
         ],
         "y": [
          -1.121419364023025,
          2.4338035576262906,
          -0.14917831211462304
         ],
         "z": [
          1.8357949317924893,
          -1.7079095661394164,
          -0.33497257291928295
         ]
        },
        {
         "hovertemplate": "variavel=cluster<br>obs_x=%{x}<br>obs_y=%{y}<br>obs_z=%{z}<br>categoria_id=%{text}<extra></extra>",
         "legendgroup": "cluster",
         "marker": {
          "color": "#FFA15A",
          "symbol": "circle"
         },
         "mode": "markers+text",
         "name": "cluster",
         "scene": "scene",
         "showlegend": true,
         "text": [
          0,
          1,
          2,
          3,
          4
         ],
         "type": "scatter3d",
         "x": [
          -1.22492125148358,
          1.1639370964353057,
          -0.2592831105490117,
          -1.3878044259955808,
          1.6966298116648502
         ],
         "y": [
          1.3110325687624105,
          1.913664936227579,
          -1.9366967943224065,
          0.9566574334975987,
          -0.27053870880556014
         ],
         "z": [
          1.1231033795278496,
          -2.508372904544309,
          -0.9504533249142902,
          1.1353732071440974,
          2.3015006375457956
         ]
        }
       ],
       "layout": {
        "legend": {
         "title": {
          "text": "variavel"
         },
         "tracegroupgap": 0
        },
        "margin": {
         "t": 60
        },
        "scene": {
         "domain": {
          "x": [
           0,
           1
          ],
          "y": [
           0,
           1
          ]
         },
         "xaxis": {
          "title": {
           "text": "obs_x"
          }
         },
         "yaxis": {
          "title": {
           "text": "obs_y"
          }
         },
         "zaxis": {
          "title": {
           "text": "obs_z"
          }
         }
        },
        "template": {
         "data": {
          "bar": [
           {
            "error_x": {
             "color": "#2a3f5f"
            },
            "error_y": {
             "color": "#2a3f5f"
            },
            "marker": {
             "line": {
              "color": "#E5ECF6",
              "width": 0.5
             },
             "pattern": {
              "fillmode": "overlay",
              "size": 10,
              "solidity": 0.2
             }
            },
            "type": "bar"
           }
          ],
          "barpolar": [
           {
            "marker": {
             "line": {
              "color": "#E5ECF6",
              "width": 0.5
             },
             "pattern": {
              "fillmode": "overlay",
              "size": 10,
              "solidity": 0.2
             }
            },
            "type": "barpolar"
           }
          ],
          "carpet": [
           {
            "aaxis": {
             "endlinecolor": "#2a3f5f",
             "gridcolor": "white",
             "linecolor": "white",
             "minorgridcolor": "white",
             "startlinecolor": "#2a3f5f"
            },
            "baxis": {
             "endlinecolor": "#2a3f5f",
             "gridcolor": "white",
             "linecolor": "white",
             "minorgridcolor": "white",
             "startlinecolor": "#2a3f5f"
            },
            "type": "carpet"
           }
          ],
          "choropleth": [
           {
            "colorbar": {
             "outlinewidth": 0,
             "ticks": ""
            },
            "type": "choropleth"
           }
          ],
          "contour": [
           {
            "colorbar": {
             "outlinewidth": 0,
             "ticks": ""
            },
            "colorscale": [
             [
              0,
              "#0d0887"
             ],
             [
              0.1111111111111111,
              "#46039f"
             ],
             [
              0.2222222222222222,
              "#7201a8"
             ],
             [
              0.3333333333333333,
              "#9c179e"
             ],
             [
              0.4444444444444444,
              "#bd3786"
             ],
             [
              0.5555555555555556,
              "#d8576b"
             ],
             [
              0.6666666666666666,
              "#ed7953"
             ],
             [
              0.7777777777777778,
              "#fb9f3a"
             ],
             [
              0.8888888888888888,
              "#fdca26"
             ],
             [
              1,
              "#f0f921"
             ]
            ],
            "type": "contour"
           }
          ],
          "contourcarpet": [
           {
            "colorbar": {
             "outlinewidth": 0,
             "ticks": ""
            },
            "type": "contourcarpet"
           }
          ],
          "heatmap": [
           {
            "colorbar": {
             "outlinewidth": 0,
             "ticks": ""
            },
            "colorscale": [
             [
              0,
              "#0d0887"
             ],
             [
              0.1111111111111111,
              "#46039f"
             ],
             [
              0.2222222222222222,
              "#7201a8"
             ],
             [
              0.3333333333333333,
              "#9c179e"
             ],
             [
              0.4444444444444444,
              "#bd3786"
             ],
             [
              0.5555555555555556,
              "#d8576b"
             ],
             [
              0.6666666666666666,
              "#ed7953"
             ],
             [
              0.7777777777777778,
              "#fb9f3a"
             ],
             [
              0.8888888888888888,
              "#fdca26"
             ],
             [
              1,
              "#f0f921"
             ]
            ],
            "type": "heatmap"
           }
          ],
          "heatmapgl": [
           {
            "colorbar": {
             "outlinewidth": 0,
             "ticks": ""
            },
            "colorscale": [
             [
              0,
              "#0d0887"
             ],
             [
              0.1111111111111111,
              "#46039f"
             ],
             [
              0.2222222222222222,
              "#7201a8"
             ],
             [
              0.3333333333333333,
              "#9c179e"
             ],
             [
              0.4444444444444444,
              "#bd3786"
             ],
             [
              0.5555555555555556,
              "#d8576b"
             ],
             [
              0.6666666666666666,
              "#ed7953"
             ],
             [
              0.7777777777777778,
              "#fb9f3a"
             ],
             [
              0.8888888888888888,
              "#fdca26"
             ],
             [
              1,
              "#f0f921"
             ]
            ],
            "type": "heatmapgl"
           }
          ],
          "histogram": [
           {
            "marker": {
             "pattern": {
              "fillmode": "overlay",
              "size": 10,
              "solidity": 0.2
             }
            },
            "type": "histogram"
           }
          ],
          "histogram2d": [
           {
            "colorbar": {
             "outlinewidth": 0,
             "ticks": ""
            },
            "colorscale": [
             [
              0,
              "#0d0887"
             ],
             [
              0.1111111111111111,
              "#46039f"
             ],
             [
              0.2222222222222222,
              "#7201a8"
             ],
             [
              0.3333333333333333,
              "#9c179e"
             ],
             [
              0.4444444444444444,
              "#bd3786"
             ],
             [
              0.5555555555555556,
              "#d8576b"
             ],
             [
              0.6666666666666666,
              "#ed7953"
             ],
             [
              0.7777777777777778,
              "#fb9f3a"
             ],
             [
              0.8888888888888888,
              "#fdca26"
             ],
             [
              1,
              "#f0f921"
             ]
            ],
            "type": "histogram2d"
           }
          ],
          "histogram2dcontour": [
           {
            "colorbar": {
             "outlinewidth": 0,
             "ticks": ""
            },
            "colorscale": [
             [
              0,
              "#0d0887"
             ],
             [
              0.1111111111111111,
              "#46039f"
             ],
             [
              0.2222222222222222,
              "#7201a8"
             ],
             [
              0.3333333333333333,
              "#9c179e"
             ],
             [
              0.4444444444444444,
              "#bd3786"
             ],
             [
              0.5555555555555556,
              "#d8576b"
             ],
             [
              0.6666666666666666,
              "#ed7953"
             ],
             [
              0.7777777777777778,
              "#fb9f3a"
             ],
             [
              0.8888888888888888,
              "#fdca26"
             ],
             [
              1,
              "#f0f921"
             ]
            ],
            "type": "histogram2dcontour"
           }
          ],
          "mesh3d": [
           {
            "colorbar": {
             "outlinewidth": 0,
             "ticks": ""
            },
            "type": "mesh3d"
           }
          ],
          "parcoords": [
           {
            "line": {
             "colorbar": {
              "outlinewidth": 0,
              "ticks": ""
             }
            },
            "type": "parcoords"
           }
          ],
          "pie": [
           {
            "automargin": true,
            "type": "pie"
           }
          ],
          "scatter": [
           {
            "fillpattern": {
             "fillmode": "overlay",
             "size": 10,
             "solidity": 0.2
            },
            "type": "scatter"
           }
          ],
          "scatter3d": [
           {
            "line": {
             "colorbar": {
              "outlinewidth": 0,
              "ticks": ""
             }
            },
            "marker": {
             "colorbar": {
              "outlinewidth": 0,
              "ticks": ""
             }
            },
            "type": "scatter3d"
           }
          ],
          "scattercarpet": [
           {
            "marker": {
             "colorbar": {
              "outlinewidth": 0,
              "ticks": ""
             }
            },
            "type": "scattercarpet"
           }
          ],
          "scattergeo": [
           {
            "marker": {
             "colorbar": {
              "outlinewidth": 0,
              "ticks": ""
             }
            },
            "type": "scattergeo"
           }
          ],
          "scattergl": [
           {
            "marker": {
             "colorbar": {
              "outlinewidth": 0,
              "ticks": ""
             }
            },
            "type": "scattergl"
           }
          ],
          "scattermapbox": [
           {
            "marker": {
             "colorbar": {
              "outlinewidth": 0,
              "ticks": ""
             }
            },
            "type": "scattermapbox"
           }
          ],
          "scatterpolar": [
           {
            "marker": {
             "colorbar": {
              "outlinewidth": 0,
              "ticks": ""
             }
            },
            "type": "scatterpolar"
           }
          ],
          "scatterpolargl": [
           {
            "marker": {
             "colorbar": {
              "outlinewidth": 0,
              "ticks": ""
             }
            },
            "type": "scatterpolargl"
           }
          ],
          "scatterternary": [
           {
            "marker": {
             "colorbar": {
              "outlinewidth": 0,
              "ticks": ""
             }
            },
            "type": "scatterternary"
           }
          ],
          "surface": [
           {
            "colorbar": {
             "outlinewidth": 0,
             "ticks": ""
            },
            "colorscale": [
             [
              0,
              "#0d0887"
             ],
             [
              0.1111111111111111,
              "#46039f"
             ],
             [
              0.2222222222222222,
              "#7201a8"
             ],
             [
              0.3333333333333333,
              "#9c179e"
             ],
             [
              0.4444444444444444,
              "#bd3786"
             ],
             [
              0.5555555555555556,
              "#d8576b"
             ],
             [
              0.6666666666666666,
              "#ed7953"
             ],
             [
              0.7777777777777778,
              "#fb9f3a"
             ],
             [
              0.8888888888888888,
              "#fdca26"
             ],
             [
              1,
              "#f0f921"
             ]
            ],
            "type": "surface"
           }
          ],
          "table": [
           {
            "cells": {
             "fill": {
              "color": "#EBF0F8"
             },
             "line": {
              "color": "white"
             }
            },
            "header": {
             "fill": {
              "color": "#C8D4E3"
             },
             "line": {
              "color": "white"
             }
            },
            "type": "table"
           }
          ]
         },
         "layout": {
          "annotationdefaults": {
           "arrowcolor": "#2a3f5f",
           "arrowhead": 0,
           "arrowwidth": 1
          },
          "autotypenumbers": "strict",
          "coloraxis": {
           "colorbar": {
            "outlinewidth": 0,
            "ticks": ""
           }
          },
          "colorscale": {
           "diverging": [
            [
             0,
             "#8e0152"
            ],
            [
             0.1,
             "#c51b7d"
            ],
            [
             0.2,
             "#de77ae"
            ],
            [
             0.3,
             "#f1b6da"
            ],
            [
             0.4,
             "#fde0ef"
            ],
            [
             0.5,
             "#f7f7f7"
            ],
            [
             0.6,
             "#e6f5d0"
            ],
            [
             0.7,
             "#b8e186"
            ],
            [
             0.8,
             "#7fbc41"
            ],
            [
             0.9,
             "#4d9221"
            ],
            [
             1,
             "#276419"
            ]
           ],
           "sequential": [
            [
             0,
             "#0d0887"
            ],
            [
             0.1111111111111111,
             "#46039f"
            ],
            [
             0.2222222222222222,
             "#7201a8"
            ],
            [
             0.3333333333333333,
             "#9c179e"
            ],
            [
             0.4444444444444444,
             "#bd3786"
            ],
            [
             0.5555555555555556,
             "#d8576b"
            ],
            [
             0.6666666666666666,
             "#ed7953"
            ],
            [
             0.7777777777777778,
             "#fb9f3a"
            ],
            [
             0.8888888888888888,
             "#fdca26"
            ],
            [
             1,
             "#f0f921"
            ]
           ],
           "sequentialminus": [
            [
             0,
             "#0d0887"
            ],
            [
             0.1111111111111111,
             "#46039f"
            ],
            [
             0.2222222222222222,
             "#7201a8"
            ],
            [
             0.3333333333333333,
             "#9c179e"
            ],
            [
             0.4444444444444444,
             "#bd3786"
            ],
            [
             0.5555555555555556,
             "#d8576b"
            ],
            [
             0.6666666666666666,
             "#ed7953"
            ],
            [
             0.7777777777777778,
             "#fb9f3a"
            ],
            [
             0.8888888888888888,
             "#fdca26"
            ],
            [
             1,
             "#f0f921"
            ]
           ]
          },
          "colorway": [
           "#636efa",
           "#EF553B",
           "#00cc96",
           "#ab63fa",
           "#FFA15A",
           "#19d3f3",
           "#FF6692",
           "#B6E880",
           "#FF97FF",
           "#FECB52"
          ],
          "font": {
           "color": "#2a3f5f"
          },
          "geo": {
           "bgcolor": "white",
           "lakecolor": "white",
           "landcolor": "#E5ECF6",
           "showlakes": true,
           "showland": true,
           "subunitcolor": "white"
          },
          "hoverlabel": {
           "align": "left"
          },
          "hovermode": "closest",
          "mapbox": {
           "style": "light"
          },
          "paper_bgcolor": "white",
          "plot_bgcolor": "#E5ECF6",
          "polar": {
           "angularaxis": {
            "gridcolor": "white",
            "linecolor": "white",
            "ticks": ""
           },
           "bgcolor": "#E5ECF6",
           "radialaxis": {
            "gridcolor": "white",
            "linecolor": "white",
            "ticks": ""
           }
          },
          "scene": {
           "xaxis": {
            "backgroundcolor": "#E5ECF6",
            "gridcolor": "white",
            "gridwidth": 2,
            "linecolor": "white",
            "showbackground": true,
            "ticks": "",
            "zerolinecolor": "white"
           },
           "yaxis": {
            "backgroundcolor": "#E5ECF6",
            "gridcolor": "white",
            "gridwidth": 2,
            "linecolor": "white",
            "showbackground": true,
            "ticks": "",
            "zerolinecolor": "white"
           },
           "zaxis": {
            "backgroundcolor": "#E5ECF6",
            "gridcolor": "white",
            "gridwidth": 2,
            "linecolor": "white",
            "showbackground": true,
            "ticks": "",
            "zerolinecolor": "white"
           }
          },
          "shapedefaults": {
           "line": {
            "color": "#2a3f5f"
           }
          },
          "ternary": {
           "aaxis": {
            "gridcolor": "white",
            "linecolor": "white",
            "ticks": ""
           },
           "baxis": {
            "gridcolor": "white",
            "linecolor": "white",
            "ticks": ""
           },
           "bgcolor": "#E5ECF6",
           "caxis": {
            "gridcolor": "white",
            "linecolor": "white",
            "ticks": ""
           }
          },
          "title": {
           "x": 0.05
          },
          "xaxis": {
           "automargin": true,
           "gridcolor": "white",
           "linecolor": "white",
           "ticks": "",
           "title": {
            "standoff": 15
           },
           "zerolinecolor": "white",
           "zerolinewidth": 2
          },
          "yaxis": {
           "automargin": true,
           "gridcolor": "white",
           "linecolor": "white",
           "ticks": "",
           "title": {
            "standoff": 15
           },
           "zerolinecolor": "white",
           "zerolinewidth": 2
          }
         }
        }
       }
      }
     },
     "metadata": {},
     "output_type": "display_data"
    }
   ],
   "source": [
    "import numpy as np\n",
    "import plotly.express as px \n",
    "\n",
    "# Getting standard coordinates of variables categories\n",
    "\n",
    "coord_padrao = mca.column_coordinates(df_quali)/np.sqrt(mca.eigenvalues_)\n",
    "print(coord_padrao)\n",
    "\n",
    "# Ploting perceptual map (standard coordinates)\n",
    "\n",
    "\n",
    "\n",
    "chart = coord_padrao.reset_index()\n",
    "var_chart = pd.Series(chart['index'].str.split('_', expand=True).iloc[:,0])\n",
    "\n",
    "nome_categ=[]\n",
    "for col in df_quali:\n",
    "    nome_categ.append(df_quali[col].sort_values(ascending=True).unique())\n",
    "    categorias = pd.DataFrame(nome_categ).stack().reset_index()\n",
    "\n",
    "chart_df_mca = pd.DataFrame({'categoria': chart['index'],\n",
    "                             'obs_x': chart[0],\n",
    "                             'obs_y': chart[1],\n",
    "                             'obs_z': chart[2],\n",
    "                             'variavel': var_chart,\n",
    "                             'categoria_id': categorias[0]})\n",
    "\n",
    "# Segundo passo: gerar o gráfico de pontos\n",
    "\n",
    "fig = px.scatter_3d(chart_df_mca, \n",
    "                    x='obs_x', \n",
    "                    y='obs_y', \n",
    "                    z='obs_z',\n",
    "                    color='variavel',\n",
    "                    text=chart_df_mca.categoria_id)\n",
    "fig.show()\n"
   ]
  }
 ],
 "metadata": {
  "kernelspec": {
   "display_name": "repos",
   "language": "python",
   "name": "python3"
  },
  "language_info": {
   "codemirror_mode": {
    "name": "ipython",
    "version": 3
   },
   "file_extension": ".py",
   "mimetype": "text/x-python",
   "name": "python",
   "nbconvert_exporter": "python",
   "pygments_lexer": "ipython3",
   "version": "3.10.10"
  }
 },
 "nbformat": 4,
 "nbformat_minor": 2
}
